{
 "cells": [
  {
   "cell_type": "code",
   "execution_count": 70,
   "metadata": {},
   "outputs": [],
   "source": [
    "import numpy as np\n",
    "import pandas as pd\n",
    "import matplotlib.pyplot as plt\n",
    "import seaborn as sns"
   ]
  },
  {
   "cell_type": "code",
   "execution_count": 71,
   "metadata": {},
   "outputs": [
    {
     "data": {
      "text/html": [
       "<div>\n",
       "<style scoped>\n",
       "    .dataframe tbody tr th:only-of-type {\n",
       "        vertical-align: middle;\n",
       "    }\n",
       "\n",
       "    .dataframe tbody tr th {\n",
       "        vertical-align: top;\n",
       "    }\n",
       "\n",
       "    .dataframe thead th {\n",
       "        text-align: right;\n",
       "    }\n",
       "</style>\n",
       "<table border=\"1\" class=\"dataframe\">\n",
       "  <thead>\n",
       "    <tr style=\"text-align: right;\">\n",
       "      <th></th>\n",
       "      <th>id</th>\n",
       "      <th>diagnosis</th>\n",
       "      <th>radius_mean</th>\n",
       "      <th>texture_mean</th>\n",
       "      <th>perimeter_mean</th>\n",
       "      <th>area_mean</th>\n",
       "      <th>smoothness_mean</th>\n",
       "      <th>compactness_mean</th>\n",
       "      <th>concavity_mean</th>\n",
       "      <th>concave points_mean</th>\n",
       "      <th>...</th>\n",
       "      <th>texture_worst</th>\n",
       "      <th>perimeter_worst</th>\n",
       "      <th>area_worst</th>\n",
       "      <th>smoothness_worst</th>\n",
       "      <th>compactness_worst</th>\n",
       "      <th>concavity_worst</th>\n",
       "      <th>concave points_worst</th>\n",
       "      <th>symmetry_worst</th>\n",
       "      <th>fractal_dimension_worst</th>\n",
       "      <th>Unnamed: 32</th>\n",
       "    </tr>\n",
       "  </thead>\n",
       "  <tbody>\n",
       "    <tr>\n",
       "      <th>0</th>\n",
       "      <td>842302</td>\n",
       "      <td>M</td>\n",
       "      <td>17.99</td>\n",
       "      <td>10.38</td>\n",
       "      <td>122.80</td>\n",
       "      <td>1001.0</td>\n",
       "      <td>0.11840</td>\n",
       "      <td>0.27760</td>\n",
       "      <td>0.3001</td>\n",
       "      <td>0.14710</td>\n",
       "      <td>...</td>\n",
       "      <td>17.33</td>\n",
       "      <td>184.60</td>\n",
       "      <td>2019.0</td>\n",
       "      <td>0.1622</td>\n",
       "      <td>0.6656</td>\n",
       "      <td>0.7119</td>\n",
       "      <td>0.2654</td>\n",
       "      <td>0.4601</td>\n",
       "      <td>0.11890</td>\n",
       "      <td>NaN</td>\n",
       "    </tr>\n",
       "    <tr>\n",
       "      <th>1</th>\n",
       "      <td>842517</td>\n",
       "      <td>M</td>\n",
       "      <td>20.57</td>\n",
       "      <td>17.77</td>\n",
       "      <td>132.90</td>\n",
       "      <td>1326.0</td>\n",
       "      <td>0.08474</td>\n",
       "      <td>0.07864</td>\n",
       "      <td>0.0869</td>\n",
       "      <td>0.07017</td>\n",
       "      <td>...</td>\n",
       "      <td>23.41</td>\n",
       "      <td>158.80</td>\n",
       "      <td>1956.0</td>\n",
       "      <td>0.1238</td>\n",
       "      <td>0.1866</td>\n",
       "      <td>0.2416</td>\n",
       "      <td>0.1860</td>\n",
       "      <td>0.2750</td>\n",
       "      <td>0.08902</td>\n",
       "      <td>NaN</td>\n",
       "    </tr>\n",
       "    <tr>\n",
       "      <th>2</th>\n",
       "      <td>84300903</td>\n",
       "      <td>M</td>\n",
       "      <td>19.69</td>\n",
       "      <td>21.25</td>\n",
       "      <td>130.00</td>\n",
       "      <td>1203.0</td>\n",
       "      <td>0.10960</td>\n",
       "      <td>0.15990</td>\n",
       "      <td>0.1974</td>\n",
       "      <td>0.12790</td>\n",
       "      <td>...</td>\n",
       "      <td>25.53</td>\n",
       "      <td>152.50</td>\n",
       "      <td>1709.0</td>\n",
       "      <td>0.1444</td>\n",
       "      <td>0.4245</td>\n",
       "      <td>0.4504</td>\n",
       "      <td>0.2430</td>\n",
       "      <td>0.3613</td>\n",
       "      <td>0.08758</td>\n",
       "      <td>NaN</td>\n",
       "    </tr>\n",
       "    <tr>\n",
       "      <th>3</th>\n",
       "      <td>84348301</td>\n",
       "      <td>M</td>\n",
       "      <td>11.42</td>\n",
       "      <td>20.38</td>\n",
       "      <td>77.58</td>\n",
       "      <td>386.1</td>\n",
       "      <td>0.14250</td>\n",
       "      <td>0.28390</td>\n",
       "      <td>0.2414</td>\n",
       "      <td>0.10520</td>\n",
       "      <td>...</td>\n",
       "      <td>26.50</td>\n",
       "      <td>98.87</td>\n",
       "      <td>567.7</td>\n",
       "      <td>0.2098</td>\n",
       "      <td>0.8663</td>\n",
       "      <td>0.6869</td>\n",
       "      <td>0.2575</td>\n",
       "      <td>0.6638</td>\n",
       "      <td>0.17300</td>\n",
       "      <td>NaN</td>\n",
       "    </tr>\n",
       "    <tr>\n",
       "      <th>4</th>\n",
       "      <td>84358402</td>\n",
       "      <td>M</td>\n",
       "      <td>20.29</td>\n",
       "      <td>14.34</td>\n",
       "      <td>135.10</td>\n",
       "      <td>1297.0</td>\n",
       "      <td>0.10030</td>\n",
       "      <td>0.13280</td>\n",
       "      <td>0.1980</td>\n",
       "      <td>0.10430</td>\n",
       "      <td>...</td>\n",
       "      <td>16.67</td>\n",
       "      <td>152.20</td>\n",
       "      <td>1575.0</td>\n",
       "      <td>0.1374</td>\n",
       "      <td>0.2050</td>\n",
       "      <td>0.4000</td>\n",
       "      <td>0.1625</td>\n",
       "      <td>0.2364</td>\n",
       "      <td>0.07678</td>\n",
       "      <td>NaN</td>\n",
       "    </tr>\n",
       "  </tbody>\n",
       "</table>\n",
       "<p>5 rows × 33 columns</p>\n",
       "</div>"
      ],
      "text/plain": [
       "         id diagnosis  radius_mean  texture_mean  perimeter_mean  area_mean  \\\n",
       "0    842302         M        17.99         10.38          122.80     1001.0   \n",
       "1    842517         M        20.57         17.77          132.90     1326.0   \n",
       "2  84300903         M        19.69         21.25          130.00     1203.0   \n",
       "3  84348301         M        11.42         20.38           77.58      386.1   \n",
       "4  84358402         M        20.29         14.34          135.10     1297.0   \n",
       "\n",
       "   smoothness_mean  compactness_mean  concavity_mean  concave points_mean  \\\n",
       "0          0.11840           0.27760          0.3001              0.14710   \n",
       "1          0.08474           0.07864          0.0869              0.07017   \n",
       "2          0.10960           0.15990          0.1974              0.12790   \n",
       "3          0.14250           0.28390          0.2414              0.10520   \n",
       "4          0.10030           0.13280          0.1980              0.10430   \n",
       "\n",
       "      ...       texture_worst  perimeter_worst  area_worst  smoothness_worst  \\\n",
       "0     ...               17.33           184.60      2019.0            0.1622   \n",
       "1     ...               23.41           158.80      1956.0            0.1238   \n",
       "2     ...               25.53           152.50      1709.0            0.1444   \n",
       "3     ...               26.50            98.87       567.7            0.2098   \n",
       "4     ...               16.67           152.20      1575.0            0.1374   \n",
       "\n",
       "   compactness_worst  concavity_worst  concave points_worst  symmetry_worst  \\\n",
       "0             0.6656           0.7119                0.2654          0.4601   \n",
       "1             0.1866           0.2416                0.1860          0.2750   \n",
       "2             0.4245           0.4504                0.2430          0.3613   \n",
       "3             0.8663           0.6869                0.2575          0.6638   \n",
       "4             0.2050           0.4000                0.1625          0.2364   \n",
       "\n",
       "   fractal_dimension_worst  Unnamed: 32  \n",
       "0                  0.11890          NaN  \n",
       "1                  0.08902          NaN  \n",
       "2                  0.08758          NaN  \n",
       "3                  0.17300          NaN  \n",
       "4                  0.07678          NaN  \n",
       "\n",
       "[5 rows x 33 columns]"
      ]
     },
     "execution_count": 71,
     "metadata": {},
     "output_type": "execute_result"
    }
   ],
   "source": [
    "df = pd.read_csv(r'C:\\Users\\Agi\\Desktop\\Summer Projects\\Breast Cancer\\data.csv')\n",
    "df.head()"
   ]
  },
  {
   "cell_type": "code",
   "execution_count": 72,
   "metadata": {},
   "outputs": [
    {
     "data": {
      "text/plain": [
       "id                           0\n",
       "diagnosis                    0\n",
       "radius_mean                  0\n",
       "texture_mean                 0\n",
       "perimeter_mean               0\n",
       "area_mean                    0\n",
       "smoothness_mean              0\n",
       "compactness_mean             0\n",
       "concavity_mean               0\n",
       "concave points_mean          0\n",
       "symmetry_mean                0\n",
       "fractal_dimension_mean       0\n",
       "radius_se                    0\n",
       "texture_se                   0\n",
       "perimeter_se                 0\n",
       "area_se                      0\n",
       "smoothness_se                0\n",
       "compactness_se               0\n",
       "concavity_se                 0\n",
       "concave points_se            0\n",
       "symmetry_se                  0\n",
       "fractal_dimension_se         0\n",
       "radius_worst                 0\n",
       "texture_worst                0\n",
       "perimeter_worst              0\n",
       "area_worst                   0\n",
       "smoothness_worst             0\n",
       "compactness_worst            0\n",
       "concavity_worst              0\n",
       "concave points_worst         0\n",
       "symmetry_worst               0\n",
       "fractal_dimension_worst      0\n",
       "Unnamed: 32                569\n",
       "dtype: int64"
      ]
     },
     "execution_count": 72,
     "metadata": {},
     "output_type": "execute_result"
    }
   ],
   "source": [
    "df.isnull().sum()"
   ]
  },
  {
   "cell_type": "code",
   "execution_count": 73,
   "metadata": {},
   "outputs": [],
   "source": [
    "df['diagnosis'] = df['diagnosis'].map({'M':1, 'B':0})"
   ]
  },
  {
   "cell_type": "code",
   "execution_count": 74,
   "metadata": {},
   "outputs": [
    {
     "data": {
      "image/png": "[encoded data removed]",
      "text/plain": [
       "<Figure size 432x288 with 1 Axes>"
      ]
     },
     "metadata": {},
     "output_type": "display_data"
    }
   ],
   "source": [
    "df['diagnosis'].value_counts().plot(kind='bar', alpha = 0.5)\n",
    "plt.xlabel('diagnosis')\n",
    "plt.ylabel('count')\n",
    "plt.show()"
   ]
  },
  {
   "cell_type": "code",
   "execution_count": 75,
   "metadata": {},
   "outputs": [
    {
     "data": {
      "text/plain": [
       "<matplotlib.axes._subplots.AxesSubplot at 0x1b76b0b67f0>"
      ]
     },
     "execution_count": 75,
     "metadata": {},
     "output_type": "execute_result"
    },
    {
     "data": {
      "image/png": "[encoded data removed]",
      "text/plain": [
       "<Figure size 432x288 with 1 Axes>"
      ]
     },
     "metadata": {},
     "output_type": "display_data"
    }
   ],
   "source": [
    "sns.kdeplot(df['texture_worst'], shade=True, color = 'r')"
   ]
  },
  {
   "cell_type": "code",
   "execution_count": 76,
   "metadata": {},
   "outputs": [
    {
     "data": {
      "text/plain": [
       "<matplotlib.axes._subplots.AxesSubplot at 0x1b76ae9af60>"
      ]
     },
     "execution_count": 76,
     "metadata": {},
     "output_type": "execute_result"
    },
    {
     "data": {
      "image/png": "[encoded data removed]",
      "text/plain": [
       "<Figure size 432x288 with 1 Axes>"
      ]
     },
     "metadata": {},
     "output_type": "display_data"
    }
   ],
   "source": [
    "sns.kdeplot(df['radius_worst'], shade=True, color = 'g')"
   ]
  },
  {
   "cell_type": "code",
   "execution_count": 77,
   "metadata": {},
   "outputs": [
    {
     "data": {
      "text/plain": [
       "<matplotlib.axes._subplots.AxesSubplot at 0x1b76b12a6a0>"
      ]
     },
     "execution_count": 77,
     "metadata": {},
     "output_type": "execute_result"
    },
    {
     "data": {
      "image/png": "[encoded data removed]",
      "text/plain": [
       "<Figure size 432x288 with 1 Axes>"
      ]
     },
     "metadata": {},
     "output_type": "display_data"
    }
   ],
   "source": [
    "sns.kdeplot(df['texture_mean'], shade=True, color = 'b')"
   ]
  },
  {
   "cell_type": "code",
   "execution_count": 78,
   "metadata": {},
   "outputs": [
    {
     "data": {
      "text/plain": [
       "<matplotlib.axes._subplots.AxesSubplot at 0x1b76b115240>"
      ]
     },
     "execution_count": 78,
     "metadata": {},
     "output_type": "execute_result"
    },
    {
     "data": {
      "image/png": "[encoded data removed]",
      "text/plain": [
       "<Figure size 432x288 with 1 Axes>"
      ]
     },
     "metadata": {},
     "output_type": "display_data"
    }
   ],
   "source": [
    "sns.kdeplot(df['concavity_mean'], shade=True, color = 'y')"
   ]
  },
  {
   "cell_type": "code",
   "execution_count": 79,
   "metadata": {},
   "outputs": [
    {
     "data": {
      "text/plain": [
       "<matplotlib.axes._subplots.AxesSubplot at 0x1b76b20ac88>"
      ]
     },
     "execution_count": 79,
     "metadata": {},
     "output_type": "execute_result"
    },
    {
     "data": {
      "image/png": "[encoded data removed]",
      "text/plain": [
       "<Figure size 432x288 with 1 Axes>"
      ]
     },
     "metadata": {},
     "output_type": "display_data"
    }
   ],
   "source": [
    "sns.kdeplot(df['perimeter_worst'], shade=True, color = 'm')"
   ]
  },
  {
   "cell_type": "code",
   "execution_count": 80,
   "metadata": {},
   "outputs": [
    {
     "data": {
      "text/plain": [
       "Index(['id', 'diagnosis', 'radius_mean', 'texture_mean', 'perimeter_mean',\n",
       "       'area_mean', 'smoothness_mean', 'compactness_mean', 'concavity_mean',\n",
       "       'concave points_mean', 'symmetry_mean', 'fractal_dimension_mean',\n",
       "       'radius_se', 'texture_se', 'perimeter_se', 'area_se', 'smoothness_se',\n",
       "       'compactness_se', 'concavity_se', 'concave points_se', 'symmetry_se',\n",
       "       'fractal_dimension_se', 'radius_worst', 'texture_worst',\n",
       "       'perimeter_worst', 'area_worst', 'smoothness_worst',\n",
       "       'compactness_worst', 'concavity_worst', 'concave points_worst',\n",
       "       'symmetry_worst', 'fractal_dimension_worst', 'Unnamed: 32'],\n",
       "      dtype='object')"
      ]
     },
     "execution_count": 80,
     "metadata": {},
     "output_type": "execute_result"
    }
   ],
   "source": [
    "df.columns"
   ]
  },
  {
   "cell_type": "code",
   "execution_count": 81,
   "metadata": {},
   "outputs": [],
   "source": [
    "#df.head()\n",
    "df.drop(['Unnamed: 32'], axis=1, inplace=True)\n",
    "df.drop(['id'], axis = 1, inplace=True)"
   ]
  },
  {
   "cell_type": "code",
   "execution_count": 82,
   "metadata": {},
   "outputs": [],
   "source": [
    "X = df.iloc[:, 1:].values\n",
    "y = df.iloc[:, 0].values"
   ]
  },
  {
   "cell_type": "code",
   "execution_count": 83,
   "metadata": {},
   "outputs": [],
   "source": [
    "from sklearn.cross_validation import train_test_split\n",
    "X_train, X_test, y_train, y_test = train_test_split(X, y, test_size = 0.30, random_state = 0)"
   ]
  },
  {
   "cell_type": "code",
   "execution_count": 84,
   "metadata": {},
   "outputs": [],
   "source": [
    "from sklearn.preprocessing import StandardScaler\n",
    "sc = StandardScaler()\n",
    "X_train = sc.fit_transform(X_train)\n",
    "X_test = sc.transform(X_test)"
   ]
  },
  {
   "cell_type": "code",
   "execution_count": 85,
   "metadata": {},
   "outputs": [
    {
     "data": {
      "text/plain": [
       "array([[107,   1],\n",
       "       [  3,  60]], dtype=int64)"
      ]
     },
     "execution_count": 85,
     "metadata": {},
     "output_type": "execute_result"
    }
   ],
   "source": [
    "from sklearn.linear_model import LogisticRegression\n",
    "classifier = LogisticRegression(random_state = 0)\n",
    "classifier.fit(X_train, y_train)\n",
    "y_pred = classifier.predict(X_test)\n",
    "from sklearn.metrics import confusion_matrix\n",
    "cm = confusion_matrix(y_test, y_pred)\n",
    "acc = accuracy_score(y_test, y_pred)\n",
    "print(cm, acc)"
   ]
  },
  {
   "cell_type": "code",
   "execution_count": 86,
   "metadata": {},
   "outputs": [
    {
     "data": {
      "text/plain": [
       "array([[107,   1],\n",
       "       [  6,  57]], dtype=int64)"
      ]
     },
     "execution_count": 86,
     "metadata": {},
     "output_type": "execute_result"
    }
   ],
   "source": [
    "from sklearn.neighbors import KNeighborsClassifier\n",
    "classifier = KNeighborsClassifier(n_neighbors = 5, metric = 'minkowski', p = 2)\n",
    "classifier.fit(X_train, y_train)\n",
    "\n",
    "# Predicting the Test set results\n",
    "y_pred = classifier.predict(X_test)\n",
    "\n",
    "# Making the Confusion Matrix\n",
    "from sklearn.metrics import confusion_matrix\n",
    "cm = confusion_matrix(y_test, y_pred)\n",
    "acc = accuracy_score(y_test, y_pred)\n",
    "print(cm, acc)"
   ]
  },
  {
   "cell_type": "code",
   "execution_count": 87,
   "metadata": {},
   "outputs": [
    {
     "data": {
      "text/plain": [
       "array([[103,   5],\n",
       "       [  2,  61]], dtype=int64)"
      ]
     },
     "execution_count": 87,
     "metadata": {},
     "output_type": "execute_result"
    }
   ],
   "source": [
    "from sklearn.svm import SVC\n",
    "classifier = SVC(kernel = 'linear', random_state = 0)\n",
    "classifier.fit(X_train, y_train)\n",
    "y_pred = classifier.predict(X_test)\n",
    "from sklearn.metrics import confusion_matrix\n",
    "cm = confusion_matrix(y_test, y_pred)\n",
    "acc = accuracy_score(y_test, y_pred)\n",
    "print(cm, acc)"
   ]
  },
  {
   "cell_type": "code",
   "execution_count": 88,
   "metadata": {},
   "outputs": [
    {
     "data": {
      "text/plain": [
       "array([[107,   1],\n",
       "       [  3,  60]], dtype=int64)"
      ]
     },
     "execution_count": 88,
     "metadata": {},
     "output_type": "execute_result"
    }
   ],
   "source": [
    "from sklearn.svm import SVC\n",
    "classifier = SVC(kernel = 'rbf', random_state = 0)\n",
    "classifier.fit(X_train, y_train)\n",
    "y_pred = classifier.predict(X_test)\n",
    "from sklearn.metrics import confusion_matrix\n",
    "cm = confusion_matrix(y_test, y_pred)\n",
    "acc = accuracy_score(y_test, y_pred)\n",
    "print(cm, acc)"
   ]
  },
  {
   "cell_type": "code",
   "execution_count": 89,
   "metadata": {},
   "outputs": [
    {
     "data": {
      "text/plain": [
       "array([[99,  9],\n",
       "       [ 6, 57]], dtype=int64)"
      ]
     },
     "execution_count": 89,
     "metadata": {},
     "output_type": "execute_result"
    }
   ],
   "source": [
    "from sklearn.naive_bayes import GaussianNB\n",
    "classifier = GaussianNB()\n",
    "classifier.fit(X_train, y_train)\n",
    "y_pred = classifier.predict(X_test)\n",
    "from sklearn.metrics import confusion_matrix\n",
    "cm = confusion_matrix(y_test, y_pred)\n",
    "acc = accuracy_score(y_test, y_pred)\n",
    "print(cm, acc)"
   ]
  },
  {
   "cell_type": "code",
   "execution_count": 90,
   "metadata": {},
   "outputs": [
    {
     "data": {
      "text/plain": [
       "array([[100,   8],\n",
       "       [  3,  60]], dtype=int64)"
      ]
     },
     "execution_count": 90,
     "metadata": {},
     "output_type": "execute_result"
    }
   ],
   "source": [
    "from sklearn.tree import DecisionTreeClassifier\n",
    "classifier = DecisionTreeClassifier(criterion = 'entropy', random_state = 0)\n",
    "classifier.fit(X_train, y_train)\n",
    "y_pred = classifier.predict(X_test)\n",
    "from sklearn.metrics import confusion_matrix\n",
    "cm = confusion_matrix(y_test, y_pred)\n",
    "acc = accuracy_score(y_test, y_pred)\n",
    "print(cm, acc)"
   ]
  },
  {
   "cell_type": "code",
   "execution_count": 91,
   "metadata": {},
   "outputs": [
    {
     "data": {
      "text/plain": [
       "array([[107,   1],\n",
       "       [  5,  58]], dtype=int64)"
      ]
     },
     "execution_count": 91,
     "metadata": {},
     "output_type": "execute_result"
    }
   ],
   "source": [
    "from sklearn.ensemble import RandomForestClassifier\n",
    "classifier = RandomForestClassifier(n_estimators = 10, criterion = 'entropy', random_state = 0)\n",
    "classifier.fit(X_train, y_train)\n",
    "y_pred = classifier.predict(X_test)\n",
    "from sklearn.metrics import confusion_matrix\n",
    "cm = confusion_matrix(y_test, y_pred)\n",
    "acc = accuracy_score(y_test, y_pred)\n",
    "print(cm, acc)"
   ]
  },
  {
   "cell_type": "code",
   "execution_count": 92,
   "metadata": {},
   "outputs": [
    {
     "data": {
      "text/plain": [
       "array([[107,   1],\n",
       "       [  5,  58]], dtype=int64)"
      ]
     },
     "execution_count": 92,
     "metadata": {},
     "output_type": "execute_result"
    }
   ],
   "source": [
    "from sklearn.neural_network import MLPClassifier\n",
    "classifier = MLPClassifier(hidden_layer_sizes=(500,500))\n",
    "classifier.fit(X_train,y_train)\n",
    "pred = classifier.predict(X_test)\n",
    "from sklearn.metrics import confusion_matrix\n",
    "cm = confusion_matrix(y_test, y_pred)\n",
    "acc = accuracy_score(y_test, y_pred)\n",
    "print(cm, acc)"
   ]
  },
  {
   "cell_type": "code",
   "execution_count": 93,
   "metadata": {},
   "outputs": [],
   "source": [
    "import lightgbm as lgb\n",
    "from lightgbm import LGBMClassifier\n",
    "from sklearn.model_selection import KFold\n",
    "from lightgbm import Dataset"
   ]
  },
  {
   "cell_type": "code",
   "execution_count": 94,
   "metadata": {},
   "outputs": [],
   "source": [
    "lgb_params = {\n",
    "    'num_leaves': 7,\n",
    "    'objective': 'binary',\n",
    "    'metric': 'binary_logloss',\n",
    "    'verbose': 0\n",
    "}\n",
    "boost_rounds_form = 80\n",
    "model_form = LGBMClassifier(**lgb_params, num_boost_round=boost_rounds_form)"
   ]
  },
  {
   "cell_type": "code",
   "execution_count": 95,
   "metadata": {},
   "outputs": [
    {
     "name": "stdout",
     "output_type": "stream",
     "text": [
      "[50]\tcv_agg's binary_logloss: 0.0909247 + 0.0610296\n"
     ]
    }
   ],
   "source": [
    "lgb_train = Dataset(data = X, label = y)\n",
    "cv = lgb.cv(lgb_params, \n",
    "              lgb_train, \n",
    "              nfold = 10,\n",
    "              num_boost_round=100, \n",
    "              early_stopping_rounds=15,\n",
    "              stratified=False, \n",
    "              verbose_eval=50)"
   ]
  },
  {
   "cell_type": "code",
   "execution_count": 96,
   "metadata": {},
   "outputs": [],
   "source": [
    "params = { 'boosting_type': 'gbdt', 'objective': 'binary','metric': 'binary_logloss',\n",
    "'bagging_fraction': 0.7372108536457227, 'colsample_bytree': 0.10000000000000001, 'feature_fraction': 1.0, 'max_depth': 15, 'min_child_weight': 0.001, 'min_split_gain': 0.10000000000000001, 'n_estimators': 300, 'subsample': 0.90706006229312575}"
   ]
  },
  {
   "cell_type": "code",
   "execution_count": 97,
   "metadata": {},
   "outputs": [
    {
     "name": "stdout",
     "output_type": "stream",
     "text": [
      "[1]\ttraining's binary_logloss: 0.578345\n",
      "[2]\ttraining's binary_logloss: 0.512236\n",
      "[3]\ttraining's binary_logloss: 0.462241\n",
      "[4]\ttraining's binary_logloss: 0.419821\n",
      "[5]\ttraining's binary_logloss: 0.379961\n",
      "[6]\ttraining's binary_logloss: 0.348936\n",
      "[7]\ttraining's binary_logloss: 0.319646\n",
      "[8]\ttraining's binary_logloss: 0.29224\n",
      "[9]\ttraining's binary_logloss: 0.268961\n",
      "[10]\ttraining's binary_logloss: 0.247189\n",
      "[11]\ttraining's binary_logloss: 0.22906\n",
      "[12]\ttraining's binary_logloss: 0.213389\n",
      "[13]\ttraining's binary_logloss: 0.198625\n",
      "[14]\ttraining's binary_logloss: 0.18618\n",
      "[15]\ttraining's binary_logloss: 0.173067\n",
      "[16]\ttraining's binary_logloss: 0.161199\n",
      "[17]\ttraining's binary_logloss: 0.150435\n",
      "[18]\ttraining's binary_logloss: 0.140682\n",
      "[19]\ttraining's binary_logloss: 0.130012\n",
      "[20]\ttraining's binary_logloss: 0.122029\n",
      "[21]\ttraining's binary_logloss: 0.11558\n"
     ]
    },
    {
     "name": "stderr",
     "output_type": "stream",
     "text": [
      "C:\\Users\\Agi\\Anaconda3\\lib\\site-packages\\lightgbm\\engine.py:102: UserWarning: Found `n_estimators` in params. Will use it instead of argument\n",
      "  warnings.warn(\"Found `{}` in params. Will use it instead of argument\".format(alias))\n"
     ]
    },
    {
     "name": "stdout",
     "output_type": "stream",
     "text": [
      "[22]\ttraining's binary_logloss: 0.107837\n",
      "[23]\ttraining's binary_logloss: 0.102153\n",
      "[24]\ttraining's binary_logloss: 0.0957737\n",
      "[25]\ttraining's binary_logloss: 0.0891112\n",
      "[26]\ttraining's binary_logloss: 0.0835074\n",
      "[27]\ttraining's binary_logloss: 0.0778719\n",
      "[28]\ttraining's binary_logloss: 0.0725681\n",
      "[29]\ttraining's binary_logloss: 0.0679814\n",
      "[30]\ttraining's binary_logloss: 0.0636609\n",
      "[31]\ttraining's binary_logloss: 0.0599055\n",
      "[32]\ttraining's binary_logloss: 0.056208\n",
      "[33]\ttraining's binary_logloss: 0.0529132\n",
      "[34]\ttraining's binary_logloss: 0.049474\n",
      "[35]\ttraining's binary_logloss: 0.045737\n",
      "[36]\ttraining's binary_logloss: 0.042875\n",
      "[37]\ttraining's binary_logloss: 0.0400638\n",
      "[38]\ttraining's binary_logloss: 0.0372411\n",
      "[39]\ttraining's binary_logloss: 0.034254\n",
      "[40]\ttraining's binary_logloss: 0.031839\n",
      "[41]\ttraining's binary_logloss: 0.0296915\n",
      "[42]\ttraining's binary_logloss: 0.0274751\n",
      "[43]\ttraining's binary_logloss: 0.0258401\n",
      "[44]\ttraining's binary_logloss: 0.0241988\n",
      "[45]\ttraining's binary_logloss: 0.0226687\n",
      "[46]\ttraining's binary_logloss: 0.0210263\n",
      "[47]\ttraining's binary_logloss: 0.0198454\n",
      "[48]\ttraining's binary_logloss: 0.0186855\n",
      "[49]\ttraining's binary_logloss: 0.0174478\n",
      "[50]\ttraining's binary_logloss: 0.016228\n",
      "[51]\ttraining's binary_logloss: 0.0153031\n",
      "[52]\ttraining's binary_logloss: 0.0142697\n",
      "[53]\ttraining's binary_logloss: 0.013428\n",
      "[54]\ttraining's binary_logloss: 0.01271\n",
      "[55]\ttraining's binary_logloss: 0.0119979\n",
      "[56]\ttraining's binary_logloss: 0.0113502\n",
      "[57]\ttraining's binary_logloss: 0.0106853\n",
      "[58]\ttraining's binary_logloss: 0.00994538\n",
      "[59]\ttraining's binary_logloss: 0.00930365\n",
      "[60]\ttraining's binary_logloss: 0.00886379\n",
      "[61]\ttraining's binary_logloss: 0.00829685\n",
      "[62]\ttraining's binary_logloss: 0.00785265\n",
      "[63]\ttraining's binary_logloss: 0.00735144\n",
      "[64]\ttraining's binary_logloss: 0.00698023\n",
      "[65]\ttraining's binary_logloss: 0.00662164\n",
      "[66]\ttraining's binary_logloss: 0.00622678\n",
      "[67]\ttraining's binary_logloss: 0.00595062\n",
      "[68]\ttraining's binary_logloss: 0.00570019\n",
      "[69]\ttraining's binary_logloss: 0.00539395\n",
      "[70]\ttraining's binary_logloss: 0.0050677\n",
      "[71]\ttraining's binary_logloss: 0.00470795\n",
      "[72]\ttraining's binary_logloss: 0.00441792\n",
      "[73]\ttraining's binary_logloss: 0.00421064\n",
      "[74]\ttraining's binary_logloss: 0.0040118\n",
      "[75]\ttraining's binary_logloss: 0.00380414\n",
      "[76]\ttraining's binary_logloss: 0.00364332\n",
      "[77]\ttraining's binary_logloss: 0.00348859\n",
      "[78]\ttraining's binary_logloss: 0.00331043\n",
      "[79]\ttraining's binary_logloss: 0.00314621\n",
      "[80]\ttraining's binary_logloss: 0.00308781\n",
      "[81]\ttraining's binary_logloss: 0.00303438\n",
      "[82]\ttraining's binary_logloss: 0.00298222\n",
      "[83]\ttraining's binary_logloss: 0.00295809\n",
      "[84]\ttraining's binary_logloss: 0.00295809\n",
      "[85]\ttraining's binary_logloss: 0.00295809\n",
      "[86]\ttraining's binary_logloss: 0.00295809\n",
      "[87]\ttraining's binary_logloss: 0.00295809\n",
      "[88]\ttraining's binary_logloss: 0.00295809\n",
      "[89]\ttraining's binary_logloss: 0.00295809\n",
      "[90]\ttraining's binary_logloss: 0.00295809\n",
      "[91]\ttraining's binary_logloss: 0.00295809\n",
      "[92]\ttraining's binary_logloss: 0.00295809\n",
      "[93]\ttraining's binary_logloss: 0.00295809\n",
      "[94]\ttraining's binary_logloss: 0.00295809\n",
      "[95]\ttraining's binary_logloss: 0.00295809\n",
      "[96]\ttraining's binary_logloss: 0.00295809\n",
      "[97]\ttraining's binary_logloss: 0.00295809\n",
      "[98]\ttraining's binary_logloss: 0.00295809\n",
      "[99]\ttraining's binary_logloss: 0.00295809\n",
      "[100]\ttraining's binary_logloss: 0.00295809\n",
      "[101]\ttraining's binary_logloss: 0.00295809\n",
      "[102]\ttraining's binary_logloss: 0.00295809\n",
      "[103]\ttraining's binary_logloss: 0.00295809\n",
      "[104]\ttraining's binary_logloss: 0.00295809\n",
      "[105]\ttraining's binary_logloss: 0.00295809\n",
      "[106]\ttraining's binary_logloss: 0.00295809\n",
      "[107]\ttraining's binary_logloss: 0.00295809\n",
      "[108]\ttraining's binary_logloss: 0.00295809\n",
      "[109]\ttraining's binary_logloss: 0.00295809\n",
      "[110]\ttraining's binary_logloss: 0.00295809\n",
      "[111]\ttraining's binary_logloss: 0.00295809\n",
      "[112]\ttraining's binary_logloss: 0.00295809\n",
      "[113]\ttraining's binary_logloss: 0.00295809\n",
      "[114]\ttraining's binary_logloss: 0.00295809\n",
      "[115]\ttraining's binary_logloss: 0.00295809\n",
      "[116]\ttraining's binary_logloss: 0.00295809\n",
      "[117]\ttraining's binary_logloss: 0.00295809\n",
      "[118]\ttraining's binary_logloss: 0.00295809\n",
      "[119]\ttraining's binary_logloss: 0.00295809\n",
      "[120]\ttraining's binary_logloss: 0.00295809\n",
      "[121]\ttraining's binary_logloss: 0.00295809\n",
      "[122]\ttraining's binary_logloss: 0.00295809\n",
      "[123]\ttraining's binary_logloss: 0.00295809\n",
      "[124]\ttraining's binary_logloss: 0.00295809\n",
      "[125]\ttraining's binary_logloss: 0.00295809\n",
      "[126]\ttraining's binary_logloss: 0.00295809\n",
      "[127]\ttraining's binary_logloss: 0.00295809\n",
      "[128]\ttraining's binary_logloss: 0.00295809\n",
      "[129]\ttraining's binary_logloss: 0.00295809\n",
      "[130]\ttraining's binary_logloss: 0.00295809\n",
      "[131]\ttraining's binary_logloss: 0.00295809\n",
      "[132]\ttraining's binary_logloss: 0.00295809\n",
      "[133]\ttraining's binary_logloss: 0.00295809\n",
      "[134]\ttraining's binary_logloss: 0.00295809\n",
      "[135]\ttraining's binary_logloss: 0.00295809\n",
      "[136]\ttraining's binary_logloss: 0.00295809\n",
      "[137]\ttraining's binary_logloss: 0.00295809\n",
      "[138]\ttraining's binary_logloss: 0.00295809\n",
      "[139]\ttraining's binary_logloss: 0.00295809\n",
      "[140]\ttraining's binary_logloss: 0.00295809\n",
      "[141]\ttraining's binary_logloss: 0.00295809\n",
      "[142]\ttraining's binary_logloss: 0.00295809\n",
      "[143]\ttraining's binary_logloss: 0.00295809\n",
      "[144]\ttraining's binary_logloss: 0.00295809\n",
      "[145]\ttraining's binary_logloss: 0.00295809\n",
      "[146]\ttraining's binary_logloss: 0.00295809\n",
      "[147]\ttraining's binary_logloss: 0.00295809\n",
      "[148]\ttraining's binary_logloss: 0.00295809\n",
      "[149]\ttraining's binary_logloss: 0.00295809\n",
      "[150]\ttraining's binary_logloss: 0.00295809\n",
      "[151]\ttraining's binary_logloss: 0.00295809\n",
      "[152]\ttraining's binary_logloss: 0.00295809\n",
      "[153]\ttraining's binary_logloss: 0.00295809\n",
      "[154]\ttraining's binary_logloss: 0.00295809\n",
      "[155]\ttraining's binary_logloss: 0.00295809\n",
      "[156]\ttraining's binary_logloss: 0.00295809\n",
      "[157]\ttraining's binary_logloss: 0.00295809\n",
      "[158]\ttraining's binary_logloss: 0.00295809\n",
      "[159]\ttraining's binary_logloss: 0.00295809\n",
      "[160]\ttraining's binary_logloss: 0.00295809\n",
      "[161]\ttraining's binary_logloss: 0.00295809\n",
      "[162]\ttraining's binary_logloss: 0.00295809\n",
      "[163]\ttraining's binary_logloss: 0.00295809\n",
      "[164]\ttraining's binary_logloss: 0.00295809\n",
      "[165]\ttraining's binary_logloss: 0.00295809\n",
      "[166]\ttraining's binary_logloss: 0.00295809\n",
      "[167]\ttraining's binary_logloss: 0.00295809\n",
      "[168]\ttraining's binary_logloss: 0.00295809\n",
      "[169]\ttraining's binary_logloss: 0.00295809\n",
      "[170]\ttraining's binary_logloss: 0.00295809\n",
      "[171]\ttraining's binary_logloss: 0.00295809\n",
      "[172]\ttraining's binary_logloss: 0.00295809\n",
      "[173]\ttraining's binary_logloss: 0.00295809\n",
      "[174]\ttraining's binary_logloss: 0.00295809\n",
      "[175]\ttraining's binary_logloss: 0.00295809\n",
      "[176]\ttraining's binary_logloss: 0.00295809\n",
      "[177]\ttraining's binary_logloss: 0.00295809\n",
      "[178]\ttraining's binary_logloss: 0.00295809\n",
      "[179]\ttraining's binary_logloss: 0.00295809\n",
      "[180]\ttraining's binary_logloss: 0.00295809\n",
      "[181]\ttraining's binary_logloss: 0.00295809\n",
      "[182]\ttraining's binary_logloss: 0.00295809\n",
      "[183]\ttraining's binary_logloss: 0.00295809\n",
      "[184]\ttraining's binary_logloss: 0.00295809\n",
      "[185]\ttraining's binary_logloss: 0.00295809\n",
      "[186]\ttraining's binary_logloss: 0.00295809\n",
      "[187]\ttraining's binary_logloss: 0.00295809\n",
      "[188]\ttraining's binary_logloss: 0.00295809\n",
      "[189]\ttraining's binary_logloss: 0.00295809\n",
      "[190]\ttraining's binary_logloss: 0.00295809\n",
      "[191]\ttraining's binary_logloss: 0.00295809\n",
      "[192]\ttraining's binary_logloss: 0.00295809\n",
      "[193]\ttraining's binary_logloss: 0.00295809\n",
      "[194]\ttraining's binary_logloss: 0.00295809\n",
      "[195]\ttraining's binary_logloss: 0.00295809\n",
      "[196]\ttraining's binary_logloss: 0.00295809\n",
      "[197]\ttraining's binary_logloss: 0.00295809\n",
      "[198]\ttraining's binary_logloss: 0.00295809\n",
      "[199]\ttraining's binary_logloss: 0.00295809\n",
      "[200]\ttraining's binary_logloss: 0.00295809\n",
      "[201]\ttraining's binary_logloss: 0.00295809\n",
      "[202]\ttraining's binary_logloss: 0.00295809\n",
      "[203]\ttraining's binary_logloss: 0.00295809\n",
      "[204]\ttraining's binary_logloss: 0.00295809\n",
      "[205]\ttraining's binary_logloss: 0.00295809\n",
      "[206]\ttraining's binary_logloss: 0.00295809\n",
      "[207]\ttraining's binary_logloss: 0.00295809\n",
      "[208]\ttraining's binary_logloss: 0.00295809\n",
      "[209]\ttraining's binary_logloss: 0.00295809\n",
      "[210]\ttraining's binary_logloss: 0.00295809\n",
      "[211]\ttraining's binary_logloss: 0.00295809\n",
      "[212]\ttraining's binary_logloss: 0.00295809\n",
      "[213]\ttraining's binary_logloss: 0.00295809\n",
      "[214]\ttraining's binary_logloss: 0.00295809\n",
      "[215]\ttraining's binary_logloss: 0.00295809\n",
      "[216]\ttraining's binary_logloss: 0.00295809\n",
      "[217]\ttraining's binary_logloss: 0.00295809\n",
      "[218]\ttraining's binary_logloss: 0.00295809\n",
      "[219]\ttraining's binary_logloss: 0.00295809\n",
      "[220]\ttraining's binary_logloss: 0.00295809\n",
      "[221]\ttraining's binary_logloss: 0.00295809\n",
      "[222]\ttraining's binary_logloss: 0.00295809\n",
      "[223]\ttraining's binary_logloss: 0.00295809\n",
      "[224]\ttraining's binary_logloss: 0.00295809\n",
      "[225]\ttraining's binary_logloss: 0.00295809\n",
      "[226]\ttraining's binary_logloss: 0.00295809\n",
      "[227]\ttraining's binary_logloss: 0.00295809\n",
      "[228]\ttraining's binary_logloss: 0.00295809\n",
      "[229]\ttraining's binary_logloss: 0.00295809\n",
      "[230]\ttraining's binary_logloss: 0.00295809\n",
      "[231]\ttraining's binary_logloss: 0.00295809\n",
      "[232]\ttraining's binary_logloss: 0.00295809\n",
      "[233]\ttraining's binary_logloss: 0.00295809\n",
      "[234]\ttraining's binary_logloss: 0.00295809\n",
      "[235]\ttraining's binary_logloss: 0.00295809\n",
      "[236]\ttraining's binary_logloss: 0.00295809\n",
      "[237]\ttraining's binary_logloss: 0.00295809\n",
      "[238]\ttraining's binary_logloss: 0.00295809\n",
      "[239]\ttraining's binary_logloss: 0.00295809\n",
      "[240]\ttraining's binary_logloss: 0.00295809\n",
      "[241]\ttraining's binary_logloss: 0.00295809\n",
      "[242]\ttraining's binary_logloss: 0.00295809\n",
      "[243]\ttraining's binary_logloss: 0.00295809\n",
      "[244]\ttraining's binary_logloss: 0.00295809\n",
      "[245]\ttraining's binary_logloss: 0.00295809\n",
      "[246]\ttraining's binary_logloss: 0.00295809\n",
      "[247]\ttraining's binary_logloss: 0.00295809\n",
      "[248]\ttraining's binary_logloss: 0.00295809\n",
      "[249]\ttraining's binary_logloss: 0.00295809\n",
      "[250]\ttraining's binary_logloss: 0.00295809\n",
      "[251]\ttraining's binary_logloss: 0.00295809\n",
      "[252]\ttraining's binary_logloss: 0.00295809\n",
      "[253]\ttraining's binary_logloss: 0.00295809\n",
      "[254]\ttraining's binary_logloss: 0.00295809\n",
      "[255]\ttraining's binary_logloss: 0.00295809\n",
      "[256]\ttraining's binary_logloss: 0.00295809\n",
      "[257]\ttraining's binary_logloss: 0.00295809\n",
      "[258]\ttraining's binary_logloss: 0.00295809\n",
      "[259]\ttraining's binary_logloss: 0.00295809\n",
      "[260]\ttraining's binary_logloss: 0.00295809\n",
      "[261]\ttraining's binary_logloss: 0.00295809\n",
      "[262]\ttraining's binary_logloss: 0.00295809\n",
      "[263]\ttraining's binary_logloss: 0.00295809\n",
      "[264]\ttraining's binary_logloss: 0.00295809\n",
      "[265]\ttraining's binary_logloss: 0.00295809\n",
      "[266]\ttraining's binary_logloss: 0.00295809\n",
      "[267]\ttraining's binary_logloss: 0.00295809\n",
      "[268]\ttraining's binary_logloss: 0.00295809\n",
      "[269]\ttraining's binary_logloss: 0.00295809\n",
      "[270]\ttraining's binary_logloss: 0.00295809\n",
      "[271]\ttraining's binary_logloss: 0.00295809\n",
      "[272]\ttraining's binary_logloss: 0.00295809\n",
      "[273]\ttraining's binary_logloss: 0.00295809\n",
      "[274]\ttraining's binary_logloss: 0.00295809\n",
      "[275]\ttraining's binary_logloss: 0.00295809\n",
      "[276]\ttraining's binary_logloss: 0.00295809\n",
      "[277]\ttraining's binary_logloss: 0.00295809\n",
      "[278]\ttraining's binary_logloss: 0.00295809\n",
      "[279]\ttraining's binary_logloss: 0.00295809\n",
      "[280]\ttraining's binary_logloss: 0.00295809\n",
      "[281]\ttraining's binary_logloss: 0.00295809\n",
      "[282]\ttraining's binary_logloss: 0.00295809\n",
      "[283]\ttraining's binary_logloss: 0.00295809\n",
      "[284]\ttraining's binary_logloss: 0.00295809\n",
      "[285]\ttraining's binary_logloss: 0.00295809\n",
      "[286]\ttraining's binary_logloss: 0.00295809\n",
      "[287]\ttraining's binary_logloss: 0.00295809\n",
      "[288]\ttraining's binary_logloss: 0.00295809\n",
      "[289]\ttraining's binary_logloss: 0.00295809\n",
      "[290]\ttraining's binary_logloss: 0.00295809\n",
      "[291]\ttraining's binary_logloss: 0.00295809\n",
      "[292]\ttraining's binary_logloss: 0.00295809\n",
      "[293]\ttraining's binary_logloss: 0.00295809\n",
      "[294]\ttraining's binary_logloss: 0.00295809\n",
      "[295]\ttraining's binary_logloss: 0.00295809\n",
      "[296]\ttraining's binary_logloss: 0.00295809\n",
      "[297]\ttraining's binary_logloss: 0.00295809\n",
      "[298]\ttraining's binary_logloss: 0.00295809\n",
      "[299]\ttraining's binary_logloss: 0.00295809\n",
      "[300]\ttraining's binary_logloss: 0.00295809\n"
     ]
    }
   ],
   "source": [
    "boost_rounds_form = 1000\n",
    "from sklearn.model_selection import train_test_split\n",
    "X_train, X_test, y_train, y_test = train_test_split(X, y, test_size=0.30, random_state=42)\n",
    "\n",
    "lgb_train_form = lgb.Dataset(X_train, y_train)\n",
    "gbm_form = lgb.train(\n",
    "                params,\n",
    "                lgb_train_form,\n",
    "                valid_sets=lgb_train_form,\n",
    "                num_boost_round=boost_rounds_form)"
   ]
  },
  {
   "cell_type": "code",
   "execution_count": 98,
   "metadata": {},
   "outputs": [],
   "source": [
    "preds = gbm_form.predict(data=X_test, raw_score=True)\n",
    "from sklearn.metrics import confusion_matrix\n",
    "from sklearn.metrics import accuracy_score\n",
    "\n",
    "for i in range(0,len(preds)):\n",
    "    if preds[i]>=.5:       # setting threshold to .5\n",
    "        preds[i]=1\n",
    "    else:  \n",
    "        preds[i]=0\n",
    "preds\n",
    "\n",
    "confusion_matrix =confusion_matrix(y_test, preds)\n",
    "confusion_matrix\n",
    "list1 = [\"Actual Benign\", \"Actual Malignant\"]\n",
    "list2 = [\"Predicted Benign\", \"Predicted Malignant\"]"
   ]
  },
  {
   "cell_type": "code",
   "execution_count": 99,
   "metadata": {},
   "outputs": [
    {
     "data": {
      "text/html": [
       "<div>\n",
       "<style scoped>\n",
       "    .dataframe tbody tr th:only-of-type {\n",
       "        vertical-align: middle;\n",
       "    }\n",
       "\n",
       "    .dataframe tbody tr th {\n",
       "        vertical-align: top;\n",
       "    }\n",
       "\n",
       "    .dataframe thead th {\n",
       "        text-align: right;\n",
       "    }\n",
       "</style>\n",
       "<table border=\"1\" class=\"dataframe\">\n",
       "  <thead>\n",
       "    <tr style=\"text-align: right;\">\n",
       "      <th></th>\n",
       "      <th>Predicted Benign</th>\n",
       "      <th>Predicted Malignant</th>\n",
       "    </tr>\n",
       "  </thead>\n",
       "  <tbody>\n",
       "    <tr>\n",
       "      <th>Actual Benign</th>\n",
       "      <td>105</td>\n",
       "      <td>3</td>\n",
       "    </tr>\n",
       "    <tr>\n",
       "      <th>Actual Malignant</th>\n",
       "      <td>4</td>\n",
       "      <td>59</td>\n",
       "    </tr>\n",
       "  </tbody>\n",
       "</table>\n",
       "</div>"
      ],
      "text/plain": [
       "                  Predicted Benign  Predicted Malignant\n",
       "Actual Benign                  105                    3\n",
       "Actual Malignant                 4                   59"
      ]
     },
     "execution_count": 99,
     "metadata": {},
     "output_type": "execute_result"
    }
   ],
   "source": [
    "pd.DataFrame(confusion_matrix, list1, list2)"
   ]
  },
  {
   "cell_type": "code",
   "execution_count": 100,
   "metadata": {},
   "outputs": [
    {
     "data": {
      "text/plain": [
       "0.9590643274853801"
      ]
     },
     "execution_count": 100,
     "metadata": {},
     "output_type": "execute_result"
    }
   ],
   "source": [
    "accuracy_score(y_test,preds)"
   ]
  },
  {
   "cell_type": "code",
   "execution_count": 101,
   "metadata": {},
   "outputs": [],
   "source": [
    "lgb_fimportance = [e for e in zip((list(gbm_form.feature_importance(\"split\"))), list(df.iloc[:, :]))]"
   ]
  },
  {
   "cell_type": "code",
   "execution_count": 102,
   "metadata": {},
   "outputs": [
    {
     "data": {
      "text/plain": [
       "[(50, 'radius_worst'),\n",
       " (47, 'texture_worst'),\n",
       " (42, 'concavity_mean'),\n",
       " (42, 'concavity_worst'),\n",
       " (36, 'radius_mean'),\n",
       " (29, 'compactness_worst'),\n",
       " (24, 'fractal_dimension_se'),\n",
       " (24, 'area_worst'),\n",
       " (23, 'concave points_mean'),\n",
       " (22, 'smoothness_se'),\n",
       " (22, 'concave points_worst'),\n",
       " (21, 'perimeter_se'),\n",
       " (19, 'perimeter_worst'),\n",
       " (16, 'compactness_se'),\n",
       " (13, 'area_se'),\n",
       " (13, 'concave points_se'),\n",
       " (10, 'concavity_se'),\n",
       " (9, 'area_mean'),\n",
       " (9, 'symmetry_mean'),\n",
       " (8, 'smoothness_worst'),\n",
       " (6, 'radius_se'),\n",
       " (6, 'texture_se'),\n",
       " (5, 'diagnosis'),\n",
       " (5, 'compactness_mean'),\n",
       " (5, 'fractal_dimension_mean'),\n",
       " (5, 'symmetry_worst'),\n",
       " (3, 'smoothness_mean'),\n",
       " (3, 'symmetry_se'),\n",
       " (2, 'perimeter_mean'),\n",
       " (0, 'texture_mean')]"
      ]
     },
     "execution_count": 102,
     "metadata": {},
     "output_type": "execute_result"
    }
   ],
   "source": [
    "lgb_fimportance = sorted(lgb_fimportance, key=lambda x: -x[0])\n",
    "lgb_fimportance"
   ]
  },
  {
   "cell_type": "code",
   "execution_count": 103,
   "metadata": {},
   "outputs": [
    {
     "name": "stderr",
     "output_type": "stream",
     "text": [
      "C:\\Users\\Agi\\Anaconda3\\lib\\site-packages\\skopt\\optimizer\\optimizer.py:399: UserWarning: The objective has been evaluated at this point before.\n",
      "  warnings.warn(\"The objective has been evaluated \"\n"
     ]
    },
    {
     "name": "stdout",
     "output_type": "stream",
     "text": [
      "val. score: 0.8815317224927173\n",
      "{'bagging_fraction': 1.0, 'colsample_bytree': 0.6921026175944659, 'feature_fraction': 0.5, 'max_depth': 3, 'min_child_weight': 0.001, 'min_split_gain': 0.1, 'n_estimators': 294, 'subsample': 0.40950713187921717}\n"
     ]
    },
    {
     "name": "stderr",
     "output_type": "stream",
     "text": [
      "C:\\Users\\Agi\\Anaconda3\\lib\\site-packages\\lightgbm\\basic.py:661: UserWarning: categorical_feature keyword has been found in `params` and will be ignored. Please use categorical_feature argument of the Dataset constructor to pass this parameter.\n",
      "  'Please use {0} argument of the Dataset constructor to pass this parameter.'.format(key))\n"
     ]
    }
   ],
   "source": [
    "from skopt import BayesSearchCV\n",
    "X_full = X\n",
    "y_form_full = y\n",
    "params = {\n",
    "    'max_depth': (3, 15),\n",
    "    'min_child_weight': (1e-3, 1e+3),\n",
    "    'n_estimators': (1, 300),\n",
    "    'colsample_bytree': (1e-1, 1e+0),\n",
    "    'subsample': (0.4, 1),\n",
    "    'bagging_fraction': (0.5, 1),\n",
    "    'feature_fraction': (0.5, 1),\n",
    "    'min_split_gain': (0.1, 10),\n",
    "}\n",
    "opt_form = BayesSearchCV(\n",
    "    lgb.LGBMRegressor(boosting_type='gbdt', objective='binary', metric='binary_loglos', categorical_feature=0),\n",
    "    params,\n",
    "    n_iter=100,\n",
    "    n_jobs=4\n",
    ")\n",
    "opt_form.fit(X_full, y_form_full)\n",
    "\n",
    "print(\"val. score: %s\" % opt_form.best_score_)\n",
    "print(opt_form.best_params_)"
   ]
  },
  {
   "cell_type": "code",
   "execution_count": null,
   "metadata": {},
   "outputs": [],
   "source": []
  }
 ],
 "metadata": {
  "kernelspec": {
   "display_name": "Python 3",
   "language": "python",
   "name": "python3"
  },
  "language_info": {
   "codemirror_mode": {
    "name": "ipython",
    "version": 3
   },
   "file_extension": ".py",
   "mimetype": "text/x-python",
   "name": "python",
   "nbconvert_exporter": "python",
   "pygments_lexer": "ipython3",
   "version": "3.6.5"
  }
 },
 "nbformat": 4,
 "nbformat_minor": 2
}
